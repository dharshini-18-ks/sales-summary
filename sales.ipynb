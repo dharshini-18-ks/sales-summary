{
 "cells": [
  {
   "cell_type": "code",
   "execution_count": 1,
   "id": "e7496ce9-4ed4-4434-844f-f3c1b837ae9c",
   "metadata": {},
   "outputs": [],
   "source": [
    "import sqlite3\n",
    "import pandas as pd\n",
    "import matplotlib.pyplot as plt"
   ]
  },
  {
   "cell_type": "code",
   "execution_count": 2,
   "id": "11a4b433-d4bd-4d59-ad48-ef227eb7902e",
   "metadata": {},
   "outputs": [],
   "source": [
    "DB_FILE = 'sales_data.db'"
   ]
  },
  {
   "cell_type": "code",
   "execution_count": 3,
   "id": "5deabaf9-fbbc-4aa0-8bc1-d8d4082b89e0",
   "metadata": {},
   "outputs": [],
   "source": [
    "sample_sales_data = [\n",
    "    ('Laptop', 10, 1500.00),    # 10 * 1500 = 15000\n",
    "    ('Keyboard', 50, 30.00),    # 50 * 30 = 1500\n",
    "    ('Monitor', 25, 600.00),     # 25 * 600 = 15000\n",
    "    ('Laptop', 5, 1450.00),     # 5 * 1450 = 7250\n",
    "    ('Mouse', 80, 15.00),       # 80 * 15 = 1200\n",
    "    ('Monitor', 10, 580.00),    # 10 * 580 = 5800\n",
    "    ('Keyboard', 30, 32.00)     # 30 * 32 = 960\n",
    "]"
   ]
  },
  {
   "cell_type": "code",
   "execution_count": 4,
   "id": "15d15e5d-e386-47d8-abbd-d2d91e7f88c7",
   "metadata": {},
   "outputs": [],
   "source": [
    "SUMMARY_QUERY = \"\"\"\n",
    "SELECT \n",
    "    product, \n",
    "    SUM(quantity) AS total_qty, \n",
    "    SUM(quantity * price) AS revenue \n",
    "FROM \n",
    "    sales \n",
    "GROUP BY \n",
    "    product\n",
    "ORDER BY\n",
    "    revenue DESC;\n",
    "\"\"\""
   ]
  },
  {
   "cell_type": "code",
   "execution_count": 5,
   "id": "4f827b1f-1bb6-46e4-8e57-22d9e611d908",
   "metadata": {},
   "outputs": [
    {
     "name": "stdout",
     "output_type": "stream",
     "text": [
      "--- Starting Database Setup ---\n"
     ]
    }
   ],
   "source": [
    "print(\"--- Starting Database Setup ---\")"
   ]
  },
  {
   "cell_type": "code",
   "execution_count": 6,
   "id": "def70f5b-2d75-4878-ab35-e92aef55ba54",
   "metadata": {},
   "outputs": [],
   "source": [
    "conn = sqlite3.connect(DB_FILE)\n",
    "cursor = conn.cursor()"
   ]
  },
  {
   "cell_type": "code",
   "execution_count": 7,
   "id": "c2555e2f-d0f0-4304-88a0-ae2ec9c4a5d9",
   "metadata": {},
   "outputs": [
    {
     "data": {
      "text/plain": [
       "<sqlite3.Cursor at 0x27ecb04d140>"
      ]
     },
     "execution_count": 7,
     "metadata": {},
     "output_type": "execute_result"
    }
   ],
   "source": [
    "cursor.execute('DROP TABLE IF EXISTS sales') # Clears old data if script is run again\n",
    "cursor.execute(\"\"\"\n",
    "CREATE TABLE sales (\n",
    "    product TEXT,\n",
    "    quantity INTEGER,\n",
    "    price REAL\n",
    ")\n",
    "\"\"\")"
   ]
  },
  {
   "cell_type": "code",
   "execution_count": 8,
   "id": "17b562e3-b531-4f91-879e-cfee09a1afb3",
   "metadata": {},
   "outputs": [
    {
     "data": {
      "text/plain": [
       "<sqlite3.Cursor at 0x27ecb04d140>"
      ]
     },
     "execution_count": 8,
     "metadata": {},
     "output_type": "execute_result"
    }
   ],
   "source": [
    "cursor.executemany('INSERT INTO sales VALUES (?, ?, ?)', sample_sales_data)"
   ]
  },
  {
   "cell_type": "code",
   "execution_count": 9,
   "id": "5bef76f3-14ab-4e7c-94ae-af99137f03b7",
   "metadata": {},
   "outputs": [
    {
     "name": "stdout",
     "output_type": "stream",
     "text": [
      "Database 'sales_data.db' created and populated successfully.\n"
     ]
    }
   ],
   "source": [
    "conn.commit()\n",
    "conn.close()\n",
    "print(f\"Database '{DB_FILE}' created and populated successfully.\")"
   ]
  },
  {
   "cell_type": "code",
   "execution_count": 10,
   "id": "10d52a04-2fe8-471f-a823-d4f3012afd01",
   "metadata": {},
   "outputs": [
    {
     "name": "stdout",
     "output_type": "stream",
     "text": [
      "\n",
      "--- Running Data Analysis ---\n"
     ]
    }
   ],
   "source": [
    "print(\"\\n--- Running Data Analysis ---\")"
   ]
  },
  {
   "cell_type": "code",
   "execution_count": 11,
   "id": "9a4fb868-ce2f-4f49-aa54-fceb5dbb4a51",
   "metadata": {},
   "outputs": [],
   "source": [
    "conn = sqlite3.connect(DB_FILE)"
   ]
  },
  {
   "cell_type": "code",
   "execution_count": 12,
   "id": "bbe2a6f6-7a62-45a5-8a87-accfe806d83a",
   "metadata": {},
   "outputs": [],
   "source": [
    "df_summary = pd.read_sql_query(SUMMARY_QUERY, conn)"
   ]
  },
  {
   "cell_type": "code",
   "execution_count": 13,
   "id": "069314be-5ec0-4586-8390-811822722442",
   "metadata": {},
   "outputs": [],
   "source": [
    "conn.close()"
   ]
  },
  {
   "cell_type": "code",
   "execution_count": 14,
   "id": "b7728849-4b35-4d20-8ef0-9bf324032b1c",
   "metadata": {},
   "outputs": [
    {
     "name": "stdout",
     "output_type": "stream",
     "text": [
      "\n",
      "--- Sales Summary Report ---\n"
     ]
    }
   ],
   "source": [
    "print(\"\\n--- Sales Summary Report ---\")"
   ]
  },
  {
   "cell_type": "code",
   "execution_count": 15,
   "id": "317a1e48-8f61-4b8b-a000-a4a62b4b2a86",
   "metadata": {},
   "outputs": [
    {
     "name": "stdout",
     "output_type": "stream",
     "text": [
      "1. Total Quantity Sold (All Products): 210\n",
      "2. Total Revenue (All Products): $46,710.00\n",
      "\n",
      "Product-wise Breakdown:\n",
      "    product  total_qty  revenue\n",
      "0    Laptop         15  22250.0\n",
      "1   Monitor         35  20800.0\n",
      "2  Keyboard         80   2460.0\n",
      "3     Mouse         80   1200.0\n"
     ]
    }
   ],
   "source": [
    "total_revenue = df_summary['revenue'].sum()\n",
    "total_quantity = df_summary['total_qty'].sum()\n",
    "\n",
    "print(f\"1. Total Quantity Sold (All Products): {total_quantity:.0f}\")\n",
    "print(f\"2. Total Revenue (All Products): ${total_revenue:,.2f}\") # Format as currency\n",
    "\n",
    "print(\"\\nProduct-wise Breakdown:\")\n",
    "print(df_summary)\n"
   ]
  },
  {
   "cell_type": "code",
   "execution_count": 16,
   "id": "c27c3d84-0c05-4d4b-8cef-ae8625166d40",
   "metadata": {},
   "outputs": [
    {
     "name": "stdout",
     "output_type": "stream",
     "text": [
      "\n",
      "--- Bar chart saved as: sales_bar_chart.png ---\n"
     ]
    },
    {
     "data": {
      "image/png": "[encoded data removed]",
      "text/plain": [
       "<Figure size 800x500 with 1 Axes>"
      ]
     },
     "metadata": {},
     "output_type": "display_data"
    },
    {
     "name": "stdout",
     "output_type": "stream",
     "text": [
      "\n",
      "--- Task Completed ---\n"
     ]
    }
   ],
   "source": [
    "plt.figure(figsize=(8, 5))\n",
    "\n",
    "# Plotting the 'revenue' column against the 'product' column\n",
    "df_summary.plot(\n",
    "    kind='bar', \n",
    "    x='product', \n",
    "    y='revenue', \n",
    "    title='Total Revenue by Product', \n",
    "    legend=False,\n",
    "    color='teal',\n",
    "    ax=plt.gca()\n",
    ")\n",
    "\n",
    "# Customize chart labels\n",
    "plt.xlabel('Product')\n",
    "plt.ylabel('Total Revenue ($)')\n",
    "plt.xticks(rotation=0) # Keep product names horizontal\n",
    "plt.grid(axis='y', linestyle='--', alpha=0.7)\n",
    "plt.tight_layout()\n",
    "\n",
    "# Save the chart (one of the final deliverables)\n",
    "CHART_FILE = 'sales_bar_chart.png'\n",
    "plt.savefig(CHART_FILE)\n",
    "print(f\"\\n--- Bar chart saved as: {CHART_FILE} ---\")\n",
    "\n",
    "# Display the chart\n",
    "plt.show()\n",
    "\n",
    "print(\"\\n--- Task Completed ---\")"
   ]
  },
  {
   "cell_type": "code",
   "execution_count": null,
   "id": "a109676e-872c-4615-9179-9b710190dd94",
   "metadata": {},
   "outputs": [],
   "source": []
  }
 ],
 "metadata": {
  "kernelspec": {
   "display_name": "Python 3 (ipykernel)",
   "language": "python",
   "name": "python3"
  },
  "language_info": {
   "codemirror_mode": {
    "name": "ipython",
    "version": 3
   },
   "file_extension": ".py",
   "mimetype": "text/x-python",
   "name": "python",
   "nbconvert_exporter": "python",
   "pygments_lexer": "ipython3",
   "version": "3.13.5"
  }
 },
 "nbformat": 4,
 "nbformat_minor": 5
}
